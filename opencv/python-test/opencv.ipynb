{
 "cells": [
  {
   "cell_type": "code",
   "execution_count": 7,
   "metadata": {},
   "outputs": [],
   "source": [
    "import cv2\n",
    "import time\n",
    "import math\n",
    "import json"
   ]
  },
  {
   "cell_type": "code",
   "execution_count": null,
   "metadata": {},
   "outputs": [
    {
     "name": "stdout",
     "output_type": "stream",
     "text": [
      "time for 1 runs in ms: 6.858110427856445\n",
      "time for 10 runs in ms: 69.00787353515625\n",
      "time for 100 runs in ms: 542.8750514984131\n",
      "time for 1000 runs in ms: 5205.314159393311\n"
     ]
    }
   ],
   "source": [
    "path = '../data/blackcat.jpg'\n",
    "src = cv2.imread(path)\n",
    "window_name = 'Image'\n",
    "\n",
    "power = 5\n",
    "num_times = 10\n",
    "out = {}\n",
    "\n",
    "for i in range(power):\n",
    "    runs = int(math.pow(num_times, i))\n",
    "    start_time = time.time()\n",
    "    for j in range(runs):\n",
    "        image = cv2.transpose(src)\n",
    "    end_time = time.time()\n",
    "    time_taken = (end_time - start_time)*1000\n",
    "    out[runs] = {'ms': time_taken}\n",
    "    print(\"time for \" + str(runs) + \" runs in ms:\", time_taken)"
   ]
  },
  {
   "cell_type": "code",
   "execution_count": null,
   "metadata": {},
   "outputs": [],
   "source": [
    "with open(\"out.json\", \"w\") as file:\n",
    "    json.dump(out, file)"
   ]
  },
  {
   "cell_type": "code",
   "execution_count": null,
   "metadata": {},
   "outputs": [],
   "source": []
  }
 ],
 "metadata": {
  "kernelspec": {
   "display_name": "Python 3",
   "language": "python",
   "name": "python3"
  },
  "language_info": {
   "codemirror_mode": {
    "name": "ipython",
    "version": 3
   },
   "file_extension": ".py",
   "mimetype": "text/x-python",
   "name": "python",
   "nbconvert_exporter": "python",
   "pygments_lexer": "ipython3",
   "version": "3.7.4"
  }
 },
 "nbformat": 4,
 "nbformat_minor": 4
}
