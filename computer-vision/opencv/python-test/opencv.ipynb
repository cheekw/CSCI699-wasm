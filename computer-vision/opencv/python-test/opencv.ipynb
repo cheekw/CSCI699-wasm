{
 "cells": [
  {
   "cell_type": "code",
   "execution_count": 1,
   "metadata": {},
   "outputs": [],
   "source": [
    "import cv2 as cv\n",
    "import time\n",
    "import math\n",
    "import json"
   ]
  },
  {
   "cell_type": "code",
   "execution_count": 8,
   "metadata": {},
   "outputs": [],
   "source": [
    "path = '../../data/blackcat.jpg'\n",
    "src = cv2.imread(path)\n",
    "window_name = 'Image'\n",
    "\n",
    "def testFunc(func_name, func, json, *args):\n",
    "    power = 5\n",
    "    num_times = 10\n",
    "    \n",
    "    json[func_name] = {}\n",
    "    for i in range(power):\n",
    "        runs = int(math.pow(num_times, i))\n",
    "        start_time = time.time()\n",
    "        for j in range(runs):\n",
    "            image = func(src, *args)\n",
    "        end_time = time.time()\n",
    "        time_taken = (end_time - start_time) * 1000\n",
    "        json[func_name][runs] = { 'ms': time_taken }\n",
    "        print(func_name + \" time for \" + str(runs) + \" runs in ms:\", time_taken)\n",
    "        \n",
    "def run():\n",
    "    out = {}\n",
    "    \n",
    "    testFunc('transpose', cv2.transpose, out)\n",
    "    testFunc('grayscale', cv2.cvtColor, out, cv2.COLOR_BGR2GRAY)\n",
    "\n",
    "    with open(\"out.json\", \"w\") as file:\n",
    "        json.dump(out, file)"
   ]
  },
  {
   "cell_type": "code",
   "execution_count": 9,
   "metadata": {},
   "outputs": [
    {
     "name": "stdout",
     "output_type": "stream",
     "text": [
      "transpose time for 1 runs in ms: 7.201910018920898\n",
      "transpose time for 10 runs in ms: 57.45887756347656\n",
      "transpose time for 100 runs in ms: 545.5009937286377\n",
      "transpose time for 1000 runs in ms: 5226.415157318115\n",
      "transpose time for 10000 runs in ms: 50036.50212287903\n",
      "grayscale time for 1 runs in ms: 0.7872581481933594\n",
      "grayscale time for 10 runs in ms: 7.157802581787109\n",
      "grayscale time for 100 runs in ms: 74.60570335388184\n",
      "grayscale time for 1000 runs in ms: 716.0170078277588\n",
      "grayscale time for 10000 runs in ms: 6493.8600063323975\n"
     ]
    }
   ],
   "source": [
    "run()"
   ]
  },
  {
   "cell_type": "code",
   "execution_count": null,
   "metadata": {},
   "outputs": [],
   "source": []
  }
 ],
 "metadata": {
  "kernelspec": {
   "display_name": "Python 3",
   "language": "python",
   "name": "python3"
  },
  "language_info": {
   "codemirror_mode": {
    "name": "ipython",
    "version": 3
   },
   "file_extension": ".py",
   "mimetype": "text/x-python",
   "name": "python",
   "nbconvert_exporter": "python",
   "pygments_lexer": "ipython3",
   "version": "3.10.9 (main, Dec 15 2022, 18:25:35) [Clang 14.0.0 (clang-1400.0.29.202)]"
  },
  "vscode": {
   "interpreter": {
    "hash": "aee8b7b246df8f9039afb4144a1f6fd8d2ca17a180786b69acc140d282b71a49"
   }
  }
 },
 "nbformat": 4,
 "nbformat_minor": 4
}
